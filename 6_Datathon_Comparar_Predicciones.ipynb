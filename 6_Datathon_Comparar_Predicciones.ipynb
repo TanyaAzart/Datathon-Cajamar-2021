{
 "cells": [
  {
   "cell_type": "code",
   "execution_count": 1,
   "metadata": {},
   "outputs": [
    {
     "name": "stderr",
     "output_type": "stream",
     "text": [
      "Importing plotly failed. Interactive plots will not work.\n"
     ]
    }
   ],
   "source": [
    "import pandas as pd\n",
    "from sklearn.metrics import mean_absolute_error\n",
    "from fbprophet import Prophet"
   ]
  },
  {
   "cell_type": "code",
   "execution_count": 2,
   "metadata": {},
   "outputs": [],
   "source": [
    "pd.options.display.max_rows=20\n",
    "pd.options.mode.chained_assignment = 'raise'"
   ]
  },
  {
   "cell_type": "code",
   "execution_count": 3,
   "metadata": {},
   "outputs": [],
   "source": [
    "from pylab import rcParams\n",
    "rcParams['figure.figsize'] = 15,5"
   ]
  },
  {
   "cell_type": "code",
   "execution_count": 4,
   "metadata": {},
   "outputs": [],
   "source": [
    "data = pd.read_csv('Modelar_UH2021.txt', sep='|', low_memory=False)"
   ]
  },
  {
   "cell_type": "code",
   "execution_count": 5,
   "metadata": {},
   "outputs": [],
   "source": [
    "data['fecha']=pd.to_datetime(data['fecha'], format=\"%d/%m/%Y %H:%M:%S\")"
   ]
  },
  {
   "cell_type": "code",
   "execution_count": 6,
   "metadata": {},
   "outputs": [
    {
     "data": {
      "text/plain": [
       "DatetimeIndex(['2015-06-01', '2015-06-01', '2015-06-01', '2015-06-01',\n",
       "               '2015-06-01', '2015-06-01', '2015-06-01', '2015-06-01',\n",
       "               '2015-06-01', '2015-06-01',\n",
       "               ...\n",
       "               '2016-09-30', '2016-09-30', '2016-09-30', '2016-09-30',\n",
       "               '2016-09-30', '2016-09-30', '2016-09-30', '2016-09-30',\n",
       "               '2016-09-30', '2016-09-30'],\n",
       "              dtype='datetime64[ns]', name='fecha', length=4045022, freq=None)"
      ]
     },
     "execution_count": 6,
     "metadata": {},
     "output_type": "execute_result"
    }
   ],
   "source": [
    "data.index=data['fecha']\n",
    "data.index"
   ]
  },
  {
   "cell_type": "code",
   "execution_count": 7,
   "metadata": {},
   "outputs": [],
   "source": [
    "prophet = pd.read_csv('Atmira_Universidad Internacional de Valencia_Heuralia_updated.txt', sep='|', parse_dates=True)\n",
    "grid = pd.read_csv('Atmira_Universidad Internacional de Valencia_Heuralia_RF2.txt', sep='|', parse_dates=True)"
   ]
  },
  {
   "cell_type": "code",
   "execution_count": 8,
   "metadata": {},
   "outputs": [],
   "source": [
    "prophet['FECHA']=pd.to_datetime(prophet['FECHA'], format='%d/%m/%Y')\n",
    "grid['fecha']=pd.to_datetime(grid['fecha'], format='%d/%m/%Y')"
   ]
  },
  {
   "cell_type": "code",
   "execution_count": 9,
   "metadata": {},
   "outputs": [
    {
     "data": {
      "text/html": [
       "<div>\n",
       "<style scoped>\n",
       "    .dataframe tbody tr th:only-of-type {\n",
       "        vertical-align: middle;\n",
       "    }\n",
       "\n",
       "    .dataframe tbody tr th {\n",
       "        vertical-align: top;\n",
       "    }\n",
       "\n",
       "    .dataframe thead th {\n",
       "        text-align: right;\n",
       "    }\n",
       "</style>\n",
       "<table border=\"1\" class=\"dataframe\">\n",
       "  <thead>\n",
       "    <tr style=\"text-align: right;\">\n",
       "      <th></th>\n",
       "      <th>FECHA</th>\n",
       "      <th>ID</th>\n",
       "      <th>UNIDADES</th>\n",
       "    </tr>\n",
       "  </thead>\n",
       "  <tbody>\n",
       "    <tr>\n",
       "      <th>0</th>\n",
       "      <td>2016-10-01</td>\n",
       "      <td>21972</td>\n",
       "      <td>2</td>\n",
       "    </tr>\n",
       "    <tr>\n",
       "      <th>1</th>\n",
       "      <td>2016-10-02</td>\n",
       "      <td>21972</td>\n",
       "      <td>3</td>\n",
       "    </tr>\n",
       "    <tr>\n",
       "      <th>2</th>\n",
       "      <td>2016-10-03</td>\n",
       "      <td>21972</td>\n",
       "      <td>1</td>\n",
       "    </tr>\n",
       "    <tr>\n",
       "      <th>3</th>\n",
       "      <td>2016-10-04</td>\n",
       "      <td>21972</td>\n",
       "      <td>0</td>\n",
       "    </tr>\n",
       "    <tr>\n",
       "      <th>4</th>\n",
       "      <td>2016-10-05</td>\n",
       "      <td>21972</td>\n",
       "      <td>0</td>\n",
       "    </tr>\n",
       "    <tr>\n",
       "      <th>...</th>\n",
       "      <td>...</td>\n",
       "      <td>...</td>\n",
       "      <td>...</td>\n",
       "    </tr>\n",
       "    <tr>\n",
       "      <th>212836</th>\n",
       "      <td>2016-12-26</td>\n",
       "      <td>458660</td>\n",
       "      <td>9</td>\n",
       "    </tr>\n",
       "    <tr>\n",
       "      <th>212837</th>\n",
       "      <td>2016-12-27</td>\n",
       "      <td>458660</td>\n",
       "      <td>8</td>\n",
       "    </tr>\n",
       "    <tr>\n",
       "      <th>212838</th>\n",
       "      <td>2016-12-28</td>\n",
       "      <td>458660</td>\n",
       "      <td>9</td>\n",
       "    </tr>\n",
       "    <tr>\n",
       "      <th>212839</th>\n",
       "      <td>2016-12-29</td>\n",
       "      <td>458660</td>\n",
       "      <td>6</td>\n",
       "    </tr>\n",
       "    <tr>\n",
       "      <th>212840</th>\n",
       "      <td>2016-12-30</td>\n",
       "      <td>458660</td>\n",
       "      <td>10</td>\n",
       "    </tr>\n",
       "  </tbody>\n",
       "</table>\n",
       "<p>212841 rows × 3 columns</p>\n",
       "</div>"
      ],
      "text/plain": [
       "            FECHA      ID  UNIDADES\n",
       "0      2016-10-01   21972         2\n",
       "1      2016-10-02   21972         3\n",
       "2      2016-10-03   21972         1\n",
       "3      2016-10-04   21972         0\n",
       "4      2016-10-05   21972         0\n",
       "...           ...     ...       ...\n",
       "212836 2016-12-26  458660         9\n",
       "212837 2016-12-27  458660         8\n",
       "212838 2016-12-28  458660         9\n",
       "212839 2016-12-29  458660         6\n",
       "212840 2016-12-30  458660        10\n",
       "\n",
       "[212841 rows x 3 columns]"
      ]
     },
     "execution_count": 9,
     "metadata": {},
     "output_type": "execute_result"
    }
   ],
   "source": [
    "prophet"
   ]
  },
  {
   "cell_type": "code",
   "execution_count": 10,
   "metadata": {},
   "outputs": [
    {
     "data": {
      "text/html": [
       "<div>\n",
       "<style scoped>\n",
       "    .dataframe tbody tr th:only-of-type {\n",
       "        vertical-align: middle;\n",
       "    }\n",
       "\n",
       "    .dataframe tbody tr th {\n",
       "        vertical-align: top;\n",
       "    }\n",
       "\n",
       "    .dataframe thead th {\n",
       "        text-align: right;\n",
       "    }\n",
       "</style>\n",
       "<table border=\"1\" class=\"dataframe\">\n",
       "  <thead>\n",
       "    <tr style=\"text-align: right;\">\n",
       "      <th></th>\n",
       "      <th>fecha</th>\n",
       "      <th>id</th>\n",
       "      <th>unidades_vendidas</th>\n",
       "    </tr>\n",
       "  </thead>\n",
       "  <tbody>\n",
       "    <tr>\n",
       "      <th>0</th>\n",
       "      <td>2016-10-01</td>\n",
       "      <td>21972</td>\n",
       "      <td>6</td>\n",
       "    </tr>\n",
       "    <tr>\n",
       "      <th>1</th>\n",
       "      <td>2016-10-02</td>\n",
       "      <td>21972</td>\n",
       "      <td>6</td>\n",
       "    </tr>\n",
       "    <tr>\n",
       "      <th>2</th>\n",
       "      <td>2016-10-03</td>\n",
       "      <td>21972</td>\n",
       "      <td>6</td>\n",
       "    </tr>\n",
       "    <tr>\n",
       "      <th>3</th>\n",
       "      <td>2016-10-04</td>\n",
       "      <td>21972</td>\n",
       "      <td>6</td>\n",
       "    </tr>\n",
       "    <tr>\n",
       "      <th>4</th>\n",
       "      <td>2016-10-05</td>\n",
       "      <td>21972</td>\n",
       "      <td>0</td>\n",
       "    </tr>\n",
       "    <tr>\n",
       "      <th>...</th>\n",
       "      <td>...</td>\n",
       "      <td>...</td>\n",
       "      <td>...</td>\n",
       "    </tr>\n",
       "    <tr>\n",
       "      <th>212836</th>\n",
       "      <td>2016-12-26</td>\n",
       "      <td>458660</td>\n",
       "      <td>38</td>\n",
       "    </tr>\n",
       "    <tr>\n",
       "      <th>212837</th>\n",
       "      <td>2016-12-27</td>\n",
       "      <td>458660</td>\n",
       "      <td>37</td>\n",
       "    </tr>\n",
       "    <tr>\n",
       "      <th>212838</th>\n",
       "      <td>2016-12-28</td>\n",
       "      <td>458660</td>\n",
       "      <td>38</td>\n",
       "    </tr>\n",
       "    <tr>\n",
       "      <th>212839</th>\n",
       "      <td>2016-12-29</td>\n",
       "      <td>458660</td>\n",
       "      <td>32</td>\n",
       "    </tr>\n",
       "    <tr>\n",
       "      <th>212840</th>\n",
       "      <td>2016-12-30</td>\n",
       "      <td>458660</td>\n",
       "      <td>38</td>\n",
       "    </tr>\n",
       "  </tbody>\n",
       "</table>\n",
       "<p>212841 rows × 3 columns</p>\n",
       "</div>"
      ],
      "text/plain": [
       "            fecha      id  unidades_vendidas\n",
       "0      2016-10-01   21972                  6\n",
       "1      2016-10-02   21972                  6\n",
       "2      2016-10-03   21972                  6\n",
       "3      2016-10-04   21972                  6\n",
       "4      2016-10-05   21972                  0\n",
       "...           ...     ...                ...\n",
       "212836 2016-12-26  458660                 38\n",
       "212837 2016-12-27  458660                 37\n",
       "212838 2016-12-28  458660                 38\n",
       "212839 2016-12-29  458660                 32\n",
       "212840 2016-12-30  458660                 38\n",
       "\n",
       "[212841 rows x 3 columns]"
      ]
     },
     "execution_count": 10,
     "metadata": {},
     "output_type": "execute_result"
    }
   ],
   "source": [
    "grid"
   ]
  },
  {
   "cell_type": "code",
   "execution_count": 11,
   "metadata": {},
   "outputs": [
    {
     "data": {
      "text/plain": [
       "True"
      ]
     },
     "execution_count": 11,
     "metadata": {},
     "output_type": "execute_result"
    }
   ],
   "source": [
    "prophet.index = prophet[['FECHA','ID']]\n",
    "prophet.index.is_unique"
   ]
  },
  {
   "cell_type": "code",
   "execution_count": 12,
   "metadata": {},
   "outputs": [
    {
     "data": {
      "text/plain": [
       "True"
      ]
     },
     "execution_count": 12,
     "metadata": {},
     "output_type": "execute_result"
    }
   ],
   "source": [
    "grid.index = grid[['fecha','id']]\n",
    "grid.index.is_unique"
   ]
  },
  {
   "cell_type": "code",
   "execution_count": 13,
   "metadata": {},
   "outputs": [],
   "source": [
    "pred = pd.merge(left=prophet, how='left', right=grid, left_on=prophet.index, right_on=grid.index)"
   ]
  },
  {
   "cell_type": "code",
   "execution_count": 14,
   "metadata": {},
   "outputs": [],
   "source": [
    "pred['diff']=pred.loc[:,'UNIDADES']- pred.loc[:,'unidades_vendidas']"
   ]
  },
  {
   "cell_type": "code",
   "execution_count": 15,
   "metadata": {},
   "outputs": [
    {
     "data": {
      "text/html": [
       "<div>\n",
       "<style scoped>\n",
       "    .dataframe tbody tr th:only-of-type {\n",
       "        vertical-align: middle;\n",
       "    }\n",
       "\n",
       "    .dataframe tbody tr th {\n",
       "        vertical-align: top;\n",
       "    }\n",
       "\n",
       "    .dataframe thead th {\n",
       "        text-align: right;\n",
       "    }\n",
       "</style>\n",
       "<table border=\"1\" class=\"dataframe\">\n",
       "  <thead>\n",
       "    <tr style=\"text-align: right;\">\n",
       "      <th></th>\n",
       "      <th>ID</th>\n",
       "      <th>UNIDADES</th>\n",
       "      <th>id</th>\n",
       "      <th>unidades_vendidas</th>\n",
       "      <th>diff</th>\n",
       "    </tr>\n",
       "  </thead>\n",
       "  <tbody>\n",
       "    <tr>\n",
       "      <th>count</th>\n",
       "      <td>212841.000000</td>\n",
       "      <td>212841.000000</td>\n",
       "      <td>212841.000000</td>\n",
       "      <td>212841.000000</td>\n",
       "      <td>212841.000000</td>\n",
       "    </tr>\n",
       "    <tr>\n",
       "      <th>mean</th>\n",
       "      <td>254764.373124</td>\n",
       "      <td>7.296113</td>\n",
       "      <td>254764.373124</td>\n",
       "      <td>16.386829</td>\n",
       "      <td>-9.090716</td>\n",
       "    </tr>\n",
       "    <tr>\n",
       "      <th>std</th>\n",
       "      <td>97368.478179</td>\n",
       "      <td>51.367326</td>\n",
       "      <td>97368.478179</td>\n",
       "      <td>78.046433</td>\n",
       "      <td>67.740803</td>\n",
       "    </tr>\n",
       "    <tr>\n",
       "      <th>min</th>\n",
       "      <td>21972.000000</td>\n",
       "      <td>0.000000</td>\n",
       "      <td>21972.000000</td>\n",
       "      <td>0.000000</td>\n",
       "      <td>-3727.000000</td>\n",
       "    </tr>\n",
       "    <tr>\n",
       "      <th>25%</th>\n",
       "      <td>177232.000000</td>\n",
       "      <td>0.000000</td>\n",
       "      <td>177232.000000</td>\n",
       "      <td>3.000000</td>\n",
       "      <td>-5.000000</td>\n",
       "    </tr>\n",
       "    <tr>\n",
       "      <th>50%</th>\n",
       "      <td>264804.000000</td>\n",
       "      <td>1.000000</td>\n",
       "      <td>264804.000000</td>\n",
       "      <td>5.000000</td>\n",
       "      <td>-3.000000</td>\n",
       "    </tr>\n",
       "    <tr>\n",
       "      <th>75%</th>\n",
       "      <td>335178.000000</td>\n",
       "      <td>5.000000</td>\n",
       "      <td>335178.000000</td>\n",
       "      <td>9.000000</td>\n",
       "      <td>-1.000000</td>\n",
       "    </tr>\n",
       "    <tr>\n",
       "      <th>max</th>\n",
       "      <td>458660.000000</td>\n",
       "      <td>12420.000000</td>\n",
       "      <td>458660.000000</td>\n",
       "      <td>3923.000000</td>\n",
       "      <td>9046.000000</td>\n",
       "    </tr>\n",
       "  </tbody>\n",
       "</table>\n",
       "</div>"
      ],
      "text/plain": [
       "                  ID       UNIDADES             id  unidades_vendidas  \\\n",
       "count  212841.000000  212841.000000  212841.000000      212841.000000   \n",
       "mean   254764.373124       7.296113  254764.373124          16.386829   \n",
       "std     97368.478179      51.367326   97368.478179          78.046433   \n",
       "min     21972.000000       0.000000   21972.000000           0.000000   \n",
       "25%    177232.000000       0.000000  177232.000000           3.000000   \n",
       "50%    264804.000000       1.000000  264804.000000           5.000000   \n",
       "75%    335178.000000       5.000000  335178.000000           9.000000   \n",
       "max    458660.000000   12420.000000  458660.000000        3923.000000   \n",
       "\n",
       "                diff  \n",
       "count  212841.000000  \n",
       "mean       -9.090716  \n",
       "std        67.740803  \n",
       "min     -3727.000000  \n",
       "25%        -5.000000  \n",
       "50%        -3.000000  \n",
       "75%        -1.000000  \n",
       "max      9046.000000  "
      ]
     },
     "execution_count": 15,
     "metadata": {},
     "output_type": "execute_result"
    }
   ],
   "source": [
    "pred.describe()"
   ]
  },
  {
   "cell_type": "code",
   "execution_count": 16,
   "metadata": {},
   "outputs": [
    {
     "data": {
      "text/html": [
       "<div>\n",
       "<style scoped>\n",
       "    .dataframe tbody tr th:only-of-type {\n",
       "        vertical-align: middle;\n",
       "    }\n",
       "\n",
       "    .dataframe tbody tr th {\n",
       "        vertical-align: top;\n",
       "    }\n",
       "\n",
       "    .dataframe thead th {\n",
       "        text-align: right;\n",
       "    }\n",
       "</style>\n",
       "<table border=\"1\" class=\"dataframe\">\n",
       "  <thead>\n",
       "    <tr style=\"text-align: right;\">\n",
       "      <th></th>\n",
       "      <th>key_0</th>\n",
       "      <th>FECHA</th>\n",
       "      <th>ID</th>\n",
       "      <th>UNIDADES</th>\n",
       "      <th>fecha</th>\n",
       "      <th>id</th>\n",
       "      <th>unidades_vendidas</th>\n",
       "      <th>diff</th>\n",
       "    </tr>\n",
       "  </thead>\n",
       "  <tbody>\n",
       "    <tr>\n",
       "      <th>77961</th>\n",
       "      <td>(2016-11-25 00:00:00, 213426)</td>\n",
       "      <td>2016-11-25</td>\n",
       "      <td>213426</td>\n",
       "      <td>394</td>\n",
       "      <td>2016-11-25</td>\n",
       "      <td>213426</td>\n",
       "      <td>3912</td>\n",
       "      <td>-3518</td>\n",
       "    </tr>\n",
       "    <tr>\n",
       "      <th>187950</th>\n",
       "      <td>(2016-11-28 00:00:00, 363178)</td>\n",
       "      <td>2016-11-28</td>\n",
       "      <td>363178</td>\n",
       "      <td>185</td>\n",
       "      <td>2016-11-28</td>\n",
       "      <td>363178</td>\n",
       "      <td>3912</td>\n",
       "      <td>-3727</td>\n",
       "    </tr>\n",
       "    <tr>\n",
       "      <th>192209</th>\n",
       "      <td>(2016-11-28 00:00:00, 372876)</td>\n",
       "      <td>2016-11-28</td>\n",
       "      <td>372876</td>\n",
       "      <td>244</td>\n",
       "      <td>2016-11-28</td>\n",
       "      <td>372876</td>\n",
       "      <td>3897</td>\n",
       "      <td>-3653</td>\n",
       "    </tr>\n",
       "    <tr>\n",
       "      <th>192210</th>\n",
       "      <td>(2016-11-29 00:00:00, 372876)</td>\n",
       "      <td>2016-11-29</td>\n",
       "      <td>372876</td>\n",
       "      <td>277</td>\n",
       "      <td>2016-11-29</td>\n",
       "      <td>372876</td>\n",
       "      <td>3897</td>\n",
       "      <td>-3620</td>\n",
       "    </tr>\n",
       "    <tr>\n",
       "      <th>195707</th>\n",
       "      <td>(2016-11-28 00:00:00, 387606)</td>\n",
       "      <td>2016-11-28</td>\n",
       "      <td>387606</td>\n",
       "      <td>345</td>\n",
       "      <td>2016-11-28</td>\n",
       "      <td>387606</td>\n",
       "      <td>3912</td>\n",
       "      <td>-3567</td>\n",
       "    </tr>\n",
       "  </tbody>\n",
       "</table>\n",
       "</div>"
      ],
      "text/plain": [
       "                                key_0      FECHA      ID  UNIDADES      fecha  \\\n",
       "77961   (2016-11-25 00:00:00, 213426) 2016-11-25  213426       394 2016-11-25   \n",
       "187950  (2016-11-28 00:00:00, 363178) 2016-11-28  363178       185 2016-11-28   \n",
       "192209  (2016-11-28 00:00:00, 372876) 2016-11-28  372876       244 2016-11-28   \n",
       "192210  (2016-11-29 00:00:00, 372876) 2016-11-29  372876       277 2016-11-29   \n",
       "195707  (2016-11-28 00:00:00, 387606) 2016-11-28  387606       345 2016-11-28   \n",
       "\n",
       "            id  unidades_vendidas  diff  \n",
       "77961   213426               3912 -3518  \n",
       "187950  363178               3912 -3727  \n",
       "192209  372876               3897 -3653  \n",
       "192210  372876               3897 -3620  \n",
       "195707  387606               3912 -3567  "
      ]
     },
     "execution_count": 16,
     "metadata": {},
     "output_type": "execute_result"
    }
   ],
   "source": [
    "pred.loc[pred['diff']<-3500]"
   ]
  },
  {
   "cell_type": "code",
   "execution_count": 17,
   "metadata": {},
   "outputs": [
    {
     "data": {
      "text/html": [
       "<div>\n",
       "<style scoped>\n",
       "    .dataframe tbody tr th:only-of-type {\n",
       "        vertical-align: middle;\n",
       "    }\n",
       "\n",
       "    .dataframe tbody tr th {\n",
       "        vertical-align: top;\n",
       "    }\n",
       "\n",
       "    .dataframe thead th {\n",
       "        text-align: right;\n",
       "    }\n",
       "</style>\n",
       "<table border=\"1\" class=\"dataframe\">\n",
       "  <thead>\n",
       "    <tr style=\"text-align: right;\">\n",
       "      <th></th>\n",
       "      <th>key_0</th>\n",
       "      <th>FECHA</th>\n",
       "      <th>ID</th>\n",
       "      <th>UNIDADES</th>\n",
       "      <th>fecha</th>\n",
       "      <th>id</th>\n",
       "      <th>unidades_vendidas</th>\n",
       "      <th>diff</th>\n",
       "    </tr>\n",
       "  </thead>\n",
       "  <tbody>\n",
       "    <tr>\n",
       "      <th>98394</th>\n",
       "      <td>(2016-11-22 00:00:00, 253964)</td>\n",
       "      <td>2016-11-22</td>\n",
       "      <td>253964</td>\n",
       "      <td>2652</td>\n",
       "      <td>2016-11-22</td>\n",
       "      <td>253964</td>\n",
       "      <td>356</td>\n",
       "      <td>2296</td>\n",
       "    </tr>\n",
       "    <tr>\n",
       "      <th>153846</th>\n",
       "      <td>(2016-11-24 00:00:00, 328146)</td>\n",
       "      <td>2016-11-24</td>\n",
       "      <td>328146</td>\n",
       "      <td>2700</td>\n",
       "      <td>2016-11-24</td>\n",
       "      <td>328146</td>\n",
       "      <td>187</td>\n",
       "      <td>2513</td>\n",
       "    </tr>\n",
       "    <tr>\n",
       "      <th>153847</th>\n",
       "      <td>(2016-11-25 00:00:00, 328146)</td>\n",
       "      <td>2016-11-25</td>\n",
       "      <td>328146</td>\n",
       "      <td>4051</td>\n",
       "      <td>2016-11-25</td>\n",
       "      <td>328146</td>\n",
       "      <td>1301</td>\n",
       "      <td>2750</td>\n",
       "    </tr>\n",
       "    <tr>\n",
       "      <th>153848</th>\n",
       "      <td>(2016-11-26 00:00:00, 328146)</td>\n",
       "      <td>2016-11-26</td>\n",
       "      <td>328146</td>\n",
       "      <td>12420</td>\n",
       "      <td>2016-11-26</td>\n",
       "      <td>328146</td>\n",
       "      <td>3374</td>\n",
       "      <td>9046</td>\n",
       "    </tr>\n",
       "    <tr>\n",
       "      <th>153849</th>\n",
       "      <td>(2016-11-27 00:00:00, 328146)</td>\n",
       "      <td>2016-11-27</td>\n",
       "      <td>328146</td>\n",
       "      <td>4276</td>\n",
       "      <td>2016-11-27</td>\n",
       "      <td>328146</td>\n",
       "      <td>1301</td>\n",
       "      <td>2975</td>\n",
       "    </tr>\n",
       "    <tr>\n",
       "      <th>153850</th>\n",
       "      <td>(2016-11-28 00:00:00, 328146)</td>\n",
       "      <td>2016-11-28</td>\n",
       "      <td>328146</td>\n",
       "      <td>3307</td>\n",
       "      <td>2016-11-28</td>\n",
       "      <td>328146</td>\n",
       "      <td>981</td>\n",
       "      <td>2326</td>\n",
       "    </tr>\n",
       "    <tr>\n",
       "      <th>153852</th>\n",
       "      <td>(2016-12-02 00:00:00, 328146)</td>\n",
       "      <td>2016-12-02</td>\n",
       "      <td>328146</td>\n",
       "      <td>3206</td>\n",
       "      <td>2016-12-02</td>\n",
       "      <td>328146</td>\n",
       "      <td>970</td>\n",
       "      <td>2236</td>\n",
       "    </tr>\n",
       "    <tr>\n",
       "      <th>153855</th>\n",
       "      <td>(2016-12-05 00:00:00, 328146)</td>\n",
       "      <td>2016-12-05</td>\n",
       "      <td>328146</td>\n",
       "      <td>2516</td>\n",
       "      <td>2016-12-05</td>\n",
       "      <td>328146</td>\n",
       "      <td>201</td>\n",
       "      <td>2315</td>\n",
       "    </tr>\n",
       "    <tr>\n",
       "      <th>153856</th>\n",
       "      <td>(2016-12-06 00:00:00, 328146)</td>\n",
       "      <td>2016-12-06</td>\n",
       "      <td>328146</td>\n",
       "      <td>4829</td>\n",
       "      <td>2016-12-06</td>\n",
       "      <td>328146</td>\n",
       "      <td>170</td>\n",
       "      <td>4659</td>\n",
       "    </tr>\n",
       "    <tr>\n",
       "      <th>153858</th>\n",
       "      <td>(2016-12-08 00:00:00, 328146)</td>\n",
       "      <td>2016-12-08</td>\n",
       "      <td>328146</td>\n",
       "      <td>2345</td>\n",
       "      <td>2016-12-08</td>\n",
       "      <td>328146</td>\n",
       "      <td>142</td>\n",
       "      <td>2203</td>\n",
       "    </tr>\n",
       "    <tr>\n",
       "      <th>153859</th>\n",
       "      <td>(2016-12-09 00:00:00, 328146)</td>\n",
       "      <td>2016-12-09</td>\n",
       "      <td>328146</td>\n",
       "      <td>5465</td>\n",
       "      <td>2016-12-09</td>\n",
       "      <td>328146</td>\n",
       "      <td>170</td>\n",
       "      <td>5295</td>\n",
       "    </tr>\n",
       "  </tbody>\n",
       "</table>\n",
       "</div>"
      ],
      "text/plain": [
       "                                key_0      FECHA      ID  UNIDADES      fecha  \\\n",
       "98394   (2016-11-22 00:00:00, 253964) 2016-11-22  253964      2652 2016-11-22   \n",
       "153846  (2016-11-24 00:00:00, 328146) 2016-11-24  328146      2700 2016-11-24   \n",
       "153847  (2016-11-25 00:00:00, 328146) 2016-11-25  328146      4051 2016-11-25   \n",
       "153848  (2016-11-26 00:00:00, 328146) 2016-11-26  328146     12420 2016-11-26   \n",
       "153849  (2016-11-27 00:00:00, 328146) 2016-11-27  328146      4276 2016-11-27   \n",
       "153850  (2016-11-28 00:00:00, 328146) 2016-11-28  328146      3307 2016-11-28   \n",
       "153852  (2016-12-02 00:00:00, 328146) 2016-12-02  328146      3206 2016-12-02   \n",
       "153855  (2016-12-05 00:00:00, 328146) 2016-12-05  328146      2516 2016-12-05   \n",
       "153856  (2016-12-06 00:00:00, 328146) 2016-12-06  328146      4829 2016-12-06   \n",
       "153858  (2016-12-08 00:00:00, 328146) 2016-12-08  328146      2345 2016-12-08   \n",
       "153859  (2016-12-09 00:00:00, 328146) 2016-12-09  328146      5465 2016-12-09   \n",
       "\n",
       "            id  unidades_vendidas  diff  \n",
       "98394   253964                356  2296  \n",
       "153846  328146                187  2513  \n",
       "153847  328146               1301  2750  \n",
       "153848  328146               3374  9046  \n",
       "153849  328146               1301  2975  \n",
       "153850  328146                981  2326  \n",
       "153852  328146                970  2236  \n",
       "153855  328146                201  2315  \n",
       "153856  328146                170  4659  \n",
       "153858  328146                142  2203  \n",
       "153859  328146                170  5295  "
      ]
     },
     "execution_count": 17,
     "metadata": {},
     "output_type": "execute_result"
    }
   ],
   "source": [
    "pred.loc[pred['diff']>2000]"
   ]
  },
  {
   "cell_type": "code",
   "execution_count": 18,
   "metadata": {},
   "outputs": [
    {
     "data": {
      "text/plain": [
       "DatetimeIndex(['2016-10-01', '2016-10-02', '2016-10-03', '2016-10-04',\n",
       "               '2016-10-05', '2016-10-06', '2016-10-07', '2016-10-08',\n",
       "               '2016-10-09', '2016-10-10',\n",
       "               ...\n",
       "               '2016-12-21', '2016-12-22', '2016-12-23', '2016-12-24',\n",
       "               '2016-12-25', '2016-12-26', '2016-12-27', '2016-12-28',\n",
       "               '2016-12-29', '2016-12-30'],\n",
       "              dtype='datetime64[ns]', name='fecha', length=212841, freq=None)"
      ]
     },
     "execution_count": 18,
     "metadata": {},
     "output_type": "execute_result"
    }
   ],
   "source": [
    "pred.index=pred.fecha\n",
    "pred.index"
   ]
  },
  {
   "cell_type": "code",
   "execution_count": 19,
   "metadata": {},
   "outputs": [
    {
     "data": {
      "text/plain": [
       "<matplotlib.axes._subplots.AxesSubplot at 0xf7024a0848>"
      ]
     },
     "execution_count": 19,
     "metadata": {},
     "output_type": "execute_result"
    },
    {
     "data": {
      "image/png": "[encoded data removed]",
      "text/plain": [
       "<Figure size 1080x360 with 1 Axes>"
      ]
     },
     "metadata": {
      "needs_background": "light"
     },
     "output_type": "display_data"
    }
   ],
   "source": [
    "pred.UNIDADES.plot(legend=True)\n",
    "pred.unidades_vendidas.plot(legend=True)"
   ]
  },
  {
   "cell_type": "code",
   "execution_count": 20,
   "metadata": {},
   "outputs": [],
   "source": [
    "def plot(code):\n",
    "    pred_prophet =pred.loc[pred['ID']==code]\n",
    "    pred_grid = pred.loc[pred['id']==code]\n",
    "    pred_prophet.UNIDADES.plot(legend=True)\n",
    "    pred_grid.unidades_vendidas.plot(legend=True)\n",
    "    data[data['id']==code]['unidades_vendidas'].plot(legend=True)"
   ]
  },
  {
   "cell_type": "code",
   "execution_count": 21,
   "metadata": {},
   "outputs": [
    {
     "data": {
      "image/png": "[encoded data removed]",
      "text/plain": [
       "<Figure size 1080x360 with 1 Axes>"
      ]
     },
     "metadata": {
      "needs_background": "light"
     },
     "output_type": "display_data"
    }
   ],
   "source": [
    "code=328146\n",
    "plot(code)"
   ]
  },
  {
   "cell_type": "code",
   "execution_count": 22,
   "metadata": {},
   "outputs": [
    {
     "data": {
      "image/png": "[encoded data removed]",
      "text/plain": [
       "<Figure size 1080x360 with 1 Axes>"
      ]
     },
     "metadata": {
      "needs_background": "light"
     },
     "output_type": "display_data"
    }
   ],
   "source": [
    "code=253964\n",
    "plot(code)"
   ]
  },
  {
   "cell_type": "code",
   "execution_count": 23,
   "metadata": {},
   "outputs": [
    {
     "data": {
      "image/png": "[encoded data removed]",
      "text/plain": [
       "<Figure size 1080x360 with 1 Axes>"
      ]
     },
     "metadata": {
      "needs_background": "light"
     },
     "output_type": "display_data"
    }
   ],
   "source": [
    "code=213426\n",
    "plot(code)"
   ]
  },
  {
   "cell_type": "code",
   "execution_count": 24,
   "metadata": {},
   "outputs": [
    {
     "data": {
      "image/png": "[encoded data removed]",
      "text/plain": [
       "<Figure size 1080x360 with 1 Axes>"
      ]
     },
     "metadata": {
      "needs_background": "light"
     },
     "output_type": "display_data"
    }
   ],
   "source": [
    "code=363178\n",
    "plot(code)"
   ]
  },
  {
   "cell_type": "code",
   "execution_count": 25,
   "metadata": {},
   "outputs": [
    {
     "data": {
      "image/png": "[encoded data removed]",
      "text/plain": [
       "<Figure size 1080x360 with 1 Axes>"
      ]
     },
     "metadata": {
      "needs_background": "light"
     },
     "output_type": "display_data"
    }
   ],
   "source": [
    "code=372876\n",
    "plot(code)"
   ]
  },
  {
   "cell_type": "code",
   "execution_count": 26,
   "metadata": {},
   "outputs": [
    {
     "data": {
      "image/png": "[encoded data removed]",
      "text/plain": [
       "<Figure size 1080x360 with 1 Axes>"
      ]
     },
     "metadata": {
      "needs_background": "light"
     },
     "output_type": "display_data"
    }
   ],
   "source": [
    "code=387606\n",
    "plot(code)"
   ]
  },
  {
   "cell_type": "code",
   "execution_count": null,
   "metadata": {},
   "outputs": [],
   "source": []
  }
 ],
 "metadata": {
  "kernelspec": {
   "display_name": "Python 3",
   "language": "python",
   "name": "python3"
  },
  "language_info": {
   "codemirror_mode": {
    "name": "ipython",
    "version": 3
   },
   "file_extension": ".py",
   "mimetype": "text/x-python",
   "name": "python",
   "nbconvert_exporter": "python",
   "pygments_lexer": "ipython3",
   "version": "3.7.6"
  }
 },
 "nbformat": 4,
 "nbformat_minor": 4
}
